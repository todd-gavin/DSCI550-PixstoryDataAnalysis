{
 "cells": [
  {
   "cell_type": "code",
   "execution_count": null,
   "metadata": {},
   "outputs": [],
   "source": [
    "\"/Users/toddgavin/Desktop/USC Classes/DSCI550 - Data Science at Scale/Assignment #1/GitHub/DSCI550-PixstoryDataAnalysis/tika_analyis_todd/etllib\""
   ]
  }
 ],
 "metadata": {
  "language_info": {
   "name": "python"
  },
  "orig_nbformat": 4
 },
 "nbformat": 4,
 "nbformat_minor": 2
}
