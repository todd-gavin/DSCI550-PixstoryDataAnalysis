{
 "cells": [
  {
   "cell_type": "code",
   "execution_count": null,
   "metadata": {},
   "outputs": [],
   "source": [
    "# api_key = TckDxNqHYfo9kXa75uE7C082P\n",
    "\n",
    "# api_key_secret = uuaF25SbSxGBfgIGCs8U4I4ch2HzYwiWysjRb1zNPHgqVFCr1J\n",
    "\n",
    "# Bearer Token = AAAAAAAAAAAAAAAAAAAAAH8HmAEAAAAAvXku6p6UTSSXdu4gwc1IwMMzVgE%3Dow92pmaV0MVGWYIFHFDU8SCj3spwCM78W35K4MZ3PaCLb4BZa0\n",
    "\n",
    "# Access Token = 2301972714-LengvxtGJ9nnHcBwZcINNooNpwsBTJxoV0R9NAa\n",
    "\n",
    "# Acces Token Secret = ACauHIBKs0A15amolQoO0pMT1kfTrrzqJsq19YF1k8Chh"
   ]
  },
  {
   "cell_type": "code",
   "execution_count": 4,
   "metadata": {},
   "outputs": [],
   "source": [
    "import tweepy"
   ]
  },
  {
   "cell_type": "markdown",
   "metadata": {},
   "source": [
    "# plan\n",
    "\n",
    "For posts from 1/1/2020 to 12/31/2022, retrieve data on:\n",
    "\n",
    "- (1) The most popular post from that day. Get the following data:\n",
    "    - hashtags on the subreddit\n",
    "    - text of tweet\n",
    "    - title of tweet\n",
    "    - likes of the tweet\n",
    "\n"
   ]
  },
  {
   "cell_type": "code",
   "execution_count": 28,
   "metadata": {},
   "outputs": [
    {
     "ename": "TypeError",
     "evalue": "search_recent_tweets() missing 1 required positional argument: 'query'",
     "output_type": "error",
     "traceback": [
      "\u001b[0;31m---------------------------------------------------------------------------\u001b[0m",
      "\u001b[0;31mTypeError\u001b[0m                                 Traceback (most recent call last)",
      "\u001b[1;32m/Users/daniilabbruzzese/Documents/Senior Year/DSCI 550/DSCI550-PixstoryDataAnalysis/Daniil Code/twitter_data.ipynb Cell 5\u001b[0m in \u001b[0;36m<cell line: 6>\u001b[0;34m()\u001b[0m\n\u001b[1;32m      <a href='vscode-notebook-cell:/Users/daniilabbruzzese/Documents/Senior%20Year/DSCI%20550/DSCI550-PixstoryDataAnalysis/Daniil%20Code/twitter_data.ipynb#W2sZmlsZQ%3D%3D?line=2'>3</a>\u001b[0m \u001b[39m# Replace with your own search query\u001b[39;00m\n\u001b[1;32m      <a href='vscode-notebook-cell:/Users/daniilabbruzzese/Documents/Senior%20Year/DSCI%20550/DSCI550-PixstoryDataAnalysis/Daniil%20Code/twitter_data.ipynb#W2sZmlsZQ%3D%3D?line=3'>4</a>\u001b[0m query \u001b[39m=\u001b[39m \u001b[39m'\u001b[39m\u001b[39mlang:en\u001b[39m\u001b[39m'\u001b[39m\n\u001b[0;32m----> <a href='vscode-notebook-cell:/Users/daniilabbruzzese/Documents/Senior%20Year/DSCI%20550/DSCI550-PixstoryDataAnalysis/Daniil%20Code/twitter_data.ipynb#W2sZmlsZQ%3D%3D?line=5'>6</a>\u001b[0m tweets \u001b[39m=\u001b[39m client\u001b[39m.\u001b[39;49msearch_recent_tweets(q\u001b[39m=\u001b[39;49m\u001b[39m\"\u001b[39;49m\u001b[39m\"\u001b[39;49m, tweet_fields\u001b[39m=\u001b[39;49m[\u001b[39m'\u001b[39;49m\u001b[39mcontext_annotations\u001b[39;49m\u001b[39m'\u001b[39;49m, \u001b[39m'\u001b[39;49m\u001b[39mcreated_at\u001b[39;49m\u001b[39m'\u001b[39;49m], max_results\u001b[39m=\u001b[39;49m\u001b[39m100\u001b[39;49m)\n\u001b[1;32m      <a href='vscode-notebook-cell:/Users/daniilabbruzzese/Documents/Senior%20Year/DSCI%20550/DSCI550-PixstoryDataAnalysis/Daniil%20Code/twitter_data.ipynb#W2sZmlsZQ%3D%3D?line=7'>8</a>\u001b[0m \u001b[39mprint\u001b[39m(tweets)\n",
      "\u001b[0;31mTypeError\u001b[0m: search_recent_tweets() missing 1 required positional argument: 'query'"
     ]
    }
   ],
   "source": [
    "\n",
    "\n",
    "\n",
    "\n",
    "client = tweepy.Client(bearer_token='AAAAAAAAAAAAAAAAAAAAAH8HmAEAAAAAvXku6p6UTSSXdu4gwc1IwMMzVgE%3Dow92pmaV0MVGWYIFHFDU8SCj3spwCM78W35K4MZ3PaCLb4BZa0')\n",
    "\n",
    "# Replace with your own search query\n",
    "query = 'lang:en'\n",
    "\n",
    "tweets = client.search_recent_tweets(query=\"\", tweet_fields=['context_annotations', 'created_at'], max_results=100)\n",
    "\n",
    "print(tweets)\n",
    "\n",
    "# auth = tweepy.OAuthHandler(consumer_key, consumer_secret)\n",
    "# auth.set_access_token(access_token, access_token_secret)\n",
    "\n",
    "# # Create an API object\n",
    "# api = tweepy.API(auth)\n",
    "\n",
    "# # Define the search query parameters\n",
    "# query = \"#January20 OR #InaugurationDay since:2020-01-20 until:2020-01-21\"\n",
    "# max_tweets = 100\n",
    "\n",
    "# temp = api.search_tweets(q='', sort_order='relevancy')\n",
    "# print(temp)\n",
    "\n",
    "# Search for tweets that match the query and sort them by the number of likes\n",
    "# tweets = tweepy.Cursor(api.search_tweets, q=query, tweet_mode='extended').items(max_tweets)\n",
    "# most_liked_tweet = max(tweets, key=lambda t: t.favorite_count)\n",
    "\n",
    "\n",
    "# # Get the text, number of likes, and username of the person who posted the most liked tweet\n",
    "# text = most_liked_tweet.full_text\n",
    "# likes = most_liked_tweet.favorite_count\n",
    "# username = most_liked_tweet.user.screen_name\n",
    "\n",
    "# # Print the results\n",
    "# print(f\"Most liked tweet on 1/20/2020: {text}\")\n",
    "# print(f\"Number of likes: {likes}\")\n",
    "# print(f\"Username: @{username}\")\n"
   ]
  }
 ],
 "metadata": {
  "kernelspec": {
   "display_name": "Python 3.9.13 64-bit",
   "language": "python",
   "name": "python3"
  },
  "language_info": {
   "codemirror_mode": {
    "name": "ipython",
    "version": 3
   },
   "file_extension": ".py",
   "mimetype": "text/x-python",
   "name": "python",
   "nbconvert_exporter": "python",
   "pygments_lexer": "ipython3",
   "version": "3.9.13"
  },
  "orig_nbformat": 4,
  "vscode": {
   "interpreter": {
    "hash": "aee8b7b246df8f9039afb4144a1f6fd8d2ca17a180786b69acc140d282b71a49"
   }
  }
 },
 "nbformat": 4,
 "nbformat_minor": 2
}
