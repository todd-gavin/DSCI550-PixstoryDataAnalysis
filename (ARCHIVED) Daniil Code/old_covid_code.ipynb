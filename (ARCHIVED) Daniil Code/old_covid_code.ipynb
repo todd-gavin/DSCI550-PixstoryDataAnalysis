{
 "cells": [
  {
   "cell_type": "code",
   "execution_count": null,
   "metadata": {},
   "outputs": [],
   "source": [
    "import requests\n",
    "import pandas as pd\n",
    "import json"
   ]
  },
  {
   "cell_type": "code",
   "execution_count": null,
   "metadata": {},
   "outputs": [],
   "source": [
    "''''''''''\n",
    "# sending a GET request to this URL;server responds with data in JSON format\n",
    "india_response = requests.get(india_url)\n",
    "\n",
    "#parsing the JSON data and converting it to a Python object\n",
    "india_data = india_response.json()\n",
    "\n",
    "#converting the data to a pandas dataframe \n",
    "india_df = pd.DataFrame(india_data)\n",
    "\n",
    "#dropping columns that we are not interested in\n",
    "india_df = india_df.drop(['CountryCode', 'Province', 'City', 'CityCode','Lat','Lon'], axis=1)\n",
    "\n",
    "#renaming columns to be more descriptive to prepare for upcoming merge\n",
    "india_df = india_df.rename(columns={'Cases': 'Covid Cases in India'})\n",
    "\n",
    "india_df\n",
    "'''''''''"
   ]
  },
  {
   "cell_type": "code",
   "execution_count": null,
   "metadata": {},
   "outputs": [],
   "source": [
    "\n",
    "#sending a GET request to this URL; server responds with data in JSON format\n",
    "russia_response = requests.get(russia_url)\n",
    "\n",
    "#parsing the JSON data and converting it to a Python object\n",
    "russia_data = russia_response.json()\n",
    "\n",
    "#converting to pandas dataframe\n",
    "russia_df = pd.DataFrame(russia_data)\n",
    "\n",
    "#dropping columns we aren't interested in\n",
    "russia_df = russia_df.drop(['CountryCode', 'Province', 'City', 'CityCode','Lat','Lon', 'Status'], axis=1)\n",
    "\n",
    "#renaming columns to be more descriptive \n",
    "russia_df = russia_df.rename(columns={'Cases': 'Covid Cases in Russia'})\n",
    "\n",
    "russia_df"
   ]
  },
  {
   "cell_type": "code",
   "execution_count": null,
   "metadata": {},
   "outputs": [],
   "source": [
    "#sending a GET request to this URL; server responds with data in JSON format\n",
    "canada_response = requests.get(canada_url)\n",
    "\n",
    "#parsing the JSON data and converting it to a Python object\n",
    "canada_data = canada_response.json()\n",
    "\n",
    "#converting data to pandas dataframe\n",
    "canada_df = pd.DataFrame(canada_data)\n",
    "\n",
    "# dropping columns we aren't interested in\n",
    "canada_df = canada_df.drop(['CountryCode', 'Province', 'City', 'CityCode','Lat','Lon', 'Status'], axis=1)\n",
    "\n",
    "#renaming columns to be more descriptive\n",
    "canada_df = canada_df.rename(columns={'Cases': 'Covid Cases in Canada'})\n",
    "\n",
    "canada_df\n"
   ]
  },
  {
   "cell_type": "code",
   "execution_count": null,
   "metadata": {},
   "outputs": [],
   "source": [
    "#Merging the DataFrames on the 'Date' column\n",
    "merged_df = pd.merge(russia_df, canada_df, on='Date').merge(india_df, on='Date')\n",
    "\n",
    "#Dropping columns that indicate country, no longer necessary in the dataframe \n",
    "merged_df = merged_df.drop(['Country_x', 'Country_y', 'Country'], axis=1)\n",
    "\n",
    "#Moving the Date column to the far left of the dataframe\n",
    "merged_df.insert(loc=0, column='Date', value=merged_df.pop('Date'))\n",
    "\n",
    "merged_df"
   ]
  },
  {
   "cell_type": "code",
   "execution_count": null,
   "metadata": {},
   "outputs": [],
   "source": [
    "#Create a new column that is the difference between consecutive rows to find the new COVID cases\n",
    "merged_df['New COVID Cases in Russia'] = merged_df['Covid Cases in Russia'].diff().fillna(0).astype(int)\n",
    "merged_df['New COVID Cases in Canada'] = merged_df['Covid Cases in Canada'].diff().fillna(0).astype(int)\n",
    "merged_df['New COVID Cases in India'] = merged_df['Covid Cases in India'].diff().fillna(0).astype(int)\n",
    "\n",
    "#Dropping Covid cases columns for each country as they are no longer needed and renaming the dataframe\n",
    "new_covid_cases_df = merged_df.drop(['Covid Cases in Russia', 'Covid Cases in Canada', 'Covid Cases in India'], axis=1)\n",
    "\n",
    "new_covid_cases_df"
   ]
  },
  {
   "cell_type": "code",
   "execution_count": null,
   "metadata": {},
   "outputs": [],
   "source": []
  }
 ],
 "metadata": {
  "kernelspec": {
   "display_name": "Python 3.9.13 64-bit",
   "language": "python",
   "name": "python3"
  },
  "language_info": {
   "name": "python",
   "version": "3.9.13"
  },
  "orig_nbformat": 4,
  "vscode": {
   "interpreter": {
    "hash": "aee8b7b246df8f9039afb4144a1f6fd8d2ca17a180786b69acc140d282b71a49"
   }
  }
 },
 "nbformat": 4,
 "nbformat_minor": 2
}
