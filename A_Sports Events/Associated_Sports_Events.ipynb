{
 "cells": [
  {
   "cell_type": "markdown",
   "source": [
    "# Associated Sports Events Column\n",
    "This Jupyter Notebook will be used to parse the webpages and add data to the column in the master dataset which mentions related sports event based on date"
   ],
   "metadata": {
    "collapsed": false
   }
  },
  {
   "cell_type": "code",
   "execution_count": 51,
   "outputs": [],
   "source": [
    "import pandas as pd\n",
    "from datetime import datetime\n",
    "import requests\n",
    "from bs4 import BeautifulSoup\n",
    "import csv\n",
    "import warnings\n",
    "warnings.filterwarnings('ignore')"
   ],
   "metadata": {
    "collapsed": false
   }
  },
  {
   "cell_type": "markdown",
   "source": [
    "Here we define a few functions, parse_link parses the webpages for the sports events tables, and saves those tables in the raw_files folder. The parse_dates function parses the string dates and converts them into date time objects showing the start and end datetime of a particular sports event. Finally, the save_formatted_sports_events_table brings both of these functions together and saves the formatted version."
   ],
   "metadata": {
    "collapsed": false
   }
  },
  {
   "cell_type": "code",
   "execution_count": 52,
   "metadata": {
    "collapsed": true
   },
   "outputs": [],
   "source": [
    "def parse_link(url, year):\n",
    "    # make a request to the webpage\n",
    "    response = requests.get(url)\n",
    "\n",
    "    # parse the HTML content using Beautiful Soup\n",
    "    soup = BeautifulSoup(response.content, 'html.parser')\n",
    "\n",
    "    # find the table containing the events\n",
    "    table = soup.find('table', {'class': 'list'})\n",
    "\n",
    "    # find all the rows in the table\n",
    "    rows = table.find_all('tr')\n",
    "\n",
    "    # create a CSV file to write the scraped data\n",
    "    with open(f'raw_files/events_{year}.csv', 'w', newline='') as csvfile:\n",
    "        writer = csv.writer(csvfile)\n",
    "\n",
    "        # write the table headers to the CSV file\n",
    "        headers = [th.text.strip() for th in rows[0].find_all('th')]\n",
    "        writer.writerow(headers)\n",
    "\n",
    "        # write the table rows to the CSV file, filtering out rows containing \"postponed\" or \"canceled\"\n",
    "        for row in rows[1:]:\n",
    "            data = [td.text.strip() for td in row.find_all('td')]\n",
    "            data = [x.replace('posponed', \"postponed\") for x in data]\n",
    "            data = [x.replace('postoned', \"postponed\") for x in data]\n",
    "\n",
    "            if 'postponed from' in data[0].lower():\n",
    "                writer.writerow(data)\n",
    "            elif 'canceled' in data[0].lower() or 'postponed' in data[0].lower():\n",
    "                continue\n",
    "            else:\n",
    "                writer.writerow(data)\n",
    "\n",
    "\n",
    "def parse_dates(date_str, year):\n",
    "    date_str = date_str.split(' (')[0]\n",
    "    date_str = date_str.replace('July', 'Jul')\n",
    "    date_str = date_str.replace('June', 'Jun')\n",
    "    date_str = date_str.replace('Sept', 'Sep')\n",
    "    date_str = date_str.replace('–', '-')\n",
    "    date_str = date_str.replace('8 Mar', 'Mar 8')\n",
    "    date_str = date_str.replace('1 Mar', 'Mar 1')\n",
    "\n",
    "    # split date range into start and end dates\n",
    "    date_range = date_str.split('-')\n",
    "\n",
    "    date_range = [x.strip() for x in date_range]\n",
    "\n",
    "    if len(date_range) == 1:\n",
    "        # if there is only one date, it is both the start and end date\n",
    "        date_start = datetime.strptime(date_range[0] + f' {year}', '%b %d %Y')\n",
    "        date_end = date_start\n",
    "    else:\n",
    "        # if second value can be converted to int, this is an individual month\n",
    "        if len(date_range[-1]) <= 2:\n",
    "            date_start = datetime.strptime(date_range[0] + f' {year}', '%b %d %Y')\n",
    "            date_end = datetime(int(year), date_start.month, int(date_range[-1]))\n",
    "        else:\n",
    "            # otherwise, parse both start and end dates\n",
    "            date_start = datetime.strptime(date_range[0] + f' {year}', '%b %d %Y')\n",
    "            date_end = datetime.strptime(date_range[1] + f' {year}', '%b %d %Y')\n",
    "\n",
    "    return date_start, date_end\n",
    "\n",
    "def save_formatted_sports_events_table(url, year):\n",
    "    parse_link(url, year)\n",
    "    save_filename = f\"raw_files/events_{year}.csv\"\n",
    "    df = pd.read_csv(save_filename)\n",
    "    df['date_start'], df['date_end'] = zip(*df['Date(s)'].apply(parse_dates, year=year))\n",
    "    df.to_csv(save_filename, index=False)"
   ]
  },
  {
   "cell_type": "markdown",
   "source": [
    "Now that we have the functions, we iterate over the years 2020, 2021, and 2022 and save the tables. We then merge these tables into one df, and save that csv."
   ],
   "metadata": {
    "collapsed": false
   }
  },
  {
   "cell_type": "code",
   "execution_count": 53,
   "outputs": [],
   "source": [
    "years = [2020, 2021, 2022]\n",
    "dfs = list()\n",
    "\n",
    "for year in years:\n",
    "    url = f'https://www.topendsports.com/events/calendar-{year}.htm'\n",
    "    save_formatted_sports_events_table(url, year)\n",
    "\n",
    "for year in years:\n",
    "    df = pd.read_csv(f\"raw_files/events_{year}.csv\")\n",
    "    dfs.append(df)\n",
    "\n",
    "total = pd.concat(dfs)\n",
    "total.drop(columns='Date(s)', inplace=True)\n",
    "total.to_csv('raw_files/sports_events.csv', index=False)"
   ],
   "metadata": {
    "collapsed": false
   }
  },
  {
   "cell_type": "markdown",
   "source": [
    "We now have a fully merged csv with everything we need. We need to convert this into a df which has dates ranging from Jan 1st 2020 to Dec 31st 2022, which we will further merge with our master dataset."
   ],
   "metadata": {
    "collapsed": false
   }
  },
  {
   "cell_type": "code",
   "execution_count": 54,
   "outputs": [],
   "source": [
    "df = pd.read_csv(\"raw_files/sports_events.csv\")\n",
    "# convert start and end times to datetime\n",
    "df['date_start'] = pd.to_datetime(df['date_start'])\n",
    "df['date_end'] = pd.to_datetime(df['date_end'])\n",
    "\n",
    "# create a range of dates from Jan 1, 2020 to Dec 31, 2022\n",
    "dates = pd.date_range(start='2020-01-01', end='2022-12-31')\n",
    "\n",
    "# create an empty dataframe to store the results\n",
    "result = pd.DataFrame(columns=['Date', 'Event'])\n",
    "\n",
    "# iterate over each date and find the events that occurred on that date\n",
    "for date in dates:\n",
    "    events = df.loc[(df['date_start'] <= date) & (df['date_end'] >= date), 'Event'].tolist()\n",
    "    event_str = ', '.join(events)\n",
    "    result = result.append({'Date': date, 'Event': event_str}, ignore_index=True)\n",
    "\n",
    "# print the resulting dataframe\n",
    "result.to_csv(\"sports_events_final.csv\", index=False)"
   ],
   "metadata": {
    "collapsed": false
   }
  },
  {
   "cell_type": "markdown",
   "source": [
    "We got our df to merge. We finally perform the merging."
   ],
   "metadata": {
    "collapsed": false
   }
  },
  {
   "cell_type": "code",
   "execution_count": 55,
   "outputs": [
    {
     "data": {
      "text/plain": "       Story Primary ID       Story ID  User Primary ID        User ID Gender  \\\n0                156581  STY1666112066            86625  USR1662300553    NaN   \n1                156580  STY1666111954           119236  USR1665943314    NaN   \n2                156579  STY1666111923            86566  USR1662294899    NaN   \n3                156578  STY1666111798            86655  USR1662303432    NaN   \n4                156577  STY1666111463             9221  USR1632727815   male   \n...                 ...            ...              ...            ...    ...   \n94995             95021  STY1650382324            22770  USR1642425119   male   \n94996             95020  STY1650381837            32577  USR1650381467    NaN   \n94997             95019  STY1650381574            32498  USR1650370047    NaN   \n94998             95018  STY1650380690            32574  USR1650380153    NaN   \n94999             95017  STY1650380622            28955  USR1647204389   male   \n\n       Age                                              Title  \\\n0       12  Qatar Airways cuts flights to accommodate FIFA...   \n1       18  Positive thinking does not necessarily mean av...   \n2       12  FIFA negotiating 'initiatives' for Qatar migra...   \n3       12  Qatar ready for the World Cup in just over a m...   \n4       23  Froyo always makes everyone happy, make this h...   \n...    ...                                                ...   \n94995   40            Ronaldo salta la trasferta di Liverpool   \n94996   15  Name-vishal\\nFather name-Amod\\nClass-7\\nAge-13...   \n94997   15                                          Earth day   \n94998   12  Name-puneet\\nclass-6th\\nfather name-Ramkishan\\...   \n94999   25                            The Derby that Matters.   \n\n                                               Narrative  \\\n0      <p dir=\"ltr\">Qatar Airways&#160;has withdrawn ...   \n1      <p dir=\"ltr\">Positive thinking does not necess...   \n2      <p dir=\"ltr\">FIFA's president sought Monday to...   \n3      <p dir=\"ltr\">Ticket sales for the FIFA World C...   \n4      <p dir=\"ltr\"></p>\\n<p dir=\"ltr\">Almost all of ...   \n...                                                  ...   \n94995  Il Manchester United ha annunciato l'assenza d...   \n94996                                           Earthday   \n94997                       Name Muskan \\nClass 8\\nSex f   \n94998                                           Earthday   \n94999  Time stands still at Merseyside, as Anfield we...   \n\n                                                   Media Account Created Date  \\\n0      https://image.pixstory.com/Pixstory-image-1666...  2022-09-04 19:39:13   \n1      https://image.pixstory.com/Pixstory-image-1666...  2022-10-16 23:31:54   \n2      https://image.pixstory.com/Pixstory-image-1666...  2022-09-04 18:04:59   \n3      https://image.pixstory.com/Pixstory-image-1666...  2022-09-04 20:27:12   \n4      https://image.pixstory.com/Pixstory-image-1666...  2021-09-27 13:00:15   \n...                                                  ...                  ...   \n94995  https://image.pixstory.com/Pixstory-image-1650...  2022-01-17 18:41:59   \n94996  https://image.pixstory.com/Pixstory-image-1650...  2022-04-19 20:47:47   \n94997  https://image.pixstory.com/Pixstory-image-1650...  2022-04-19 17:37:27   \n94998  https://image.pixstory.com/Pixstory-image-1650...  2022-04-19 20:25:53   \n94999  https://image.pixstory.com/Pixstory-image-1650...  2022-03-14 02:16:29   \n\n                                                Interest  \\\n0      Technology, History, Food, Entertainment, Spor...   \n1      Technology, History, Food, Entertainment, Spor...   \n2      Technology, History, Food, Entertainment, Spor...   \n3      Technology, History, Food, Entertainment, Spor...   \n4      Science, Inequality, Education, Technology, He...   \n...                                                  ...   \n94995  calcio, premier league, cristiano ronaldo, man...   \n94996                                            chintan   \n94997                                            chintan   \n94998                                            chintan   \n94999  football, premier league, ynwa, liverpool, man...   \n\n                                           Sports Events  \n0          World Volleyball Championships (men), US Open  \n1      Womens World Cup, World Track Championships, W...  \n2          World Volleyball Championships (men), US Open  \n3          World Volleyball Championships (men), US Open  \n4                                                         \n...                                                  ...  \n94995             Africa Cup of Nations, Australian Open  \n94996         Invictus Games, World Snooker Championship  \n94997         Invictus Games, World Snooker Championship  \n94998         Invictus Games, World Snooker Championship  \n94999               Six Nations, ODI World Cup for women  \n\n[95000 rows x 12 columns]",
      "text/html": "<div>\n<style scoped>\n    .dataframe tbody tr th:only-of-type {\n        vertical-align: middle;\n    }\n\n    .dataframe tbody tr th {\n        vertical-align: top;\n    }\n\n    .dataframe thead th {\n        text-align: right;\n    }\n</style>\n<table border=\"1\" class=\"dataframe\">\n  <thead>\n    <tr style=\"text-align: right;\">\n      <th></th>\n      <th>Story Primary ID</th>\n      <th>Story ID</th>\n      <th>User Primary ID</th>\n      <th>User ID</th>\n      <th>Gender</th>\n      <th>Age</th>\n      <th>Title</th>\n      <th>Narrative</th>\n      <th>Media</th>\n      <th>Account Created Date</th>\n      <th>Interest</th>\n      <th>Sports Events</th>\n    </tr>\n  </thead>\n  <tbody>\n    <tr>\n      <th>0</th>\n      <td>156581</td>\n      <td>STY1666112066</td>\n      <td>86625</td>\n      <td>USR1662300553</td>\n      <td>NaN</td>\n      <td>12</td>\n      <td>Qatar Airways cuts flights to accommodate FIFA...</td>\n      <td>&lt;p dir=\"ltr\"&gt;Qatar Airways&amp;#160;has withdrawn ...</td>\n      <td>https://image.pixstory.com/Pixstory-image-1666...</td>\n      <td>2022-09-04 19:39:13</td>\n      <td>Technology, History, Food, Entertainment, Spor...</td>\n      <td>World Volleyball Championships (men), US Open</td>\n    </tr>\n    <tr>\n      <th>1</th>\n      <td>156580</td>\n      <td>STY1666111954</td>\n      <td>119236</td>\n      <td>USR1665943314</td>\n      <td>NaN</td>\n      <td>18</td>\n      <td>Positive thinking does not necessarily mean av...</td>\n      <td>&lt;p dir=\"ltr\"&gt;Positive thinking does not necess...</td>\n      <td>https://image.pixstory.com/Pixstory-image-1666...</td>\n      <td>2022-10-16 23:31:54</td>\n      <td>Technology, History, Food, Entertainment, Spor...</td>\n      <td>Womens World Cup, World Track Championships, W...</td>\n    </tr>\n    <tr>\n      <th>2</th>\n      <td>156579</td>\n      <td>STY1666111923</td>\n      <td>86566</td>\n      <td>USR1662294899</td>\n      <td>NaN</td>\n      <td>12</td>\n      <td>FIFA negotiating 'initiatives' for Qatar migra...</td>\n      <td>&lt;p dir=\"ltr\"&gt;FIFA's president sought Monday to...</td>\n      <td>https://image.pixstory.com/Pixstory-image-1666...</td>\n      <td>2022-09-04 18:04:59</td>\n      <td>Technology, History, Food, Entertainment, Spor...</td>\n      <td>World Volleyball Championships (men), US Open</td>\n    </tr>\n    <tr>\n      <th>3</th>\n      <td>156578</td>\n      <td>STY1666111798</td>\n      <td>86655</td>\n      <td>USR1662303432</td>\n      <td>NaN</td>\n      <td>12</td>\n      <td>Qatar ready for the World Cup in just over a m...</td>\n      <td>&lt;p dir=\"ltr\"&gt;Ticket sales for the FIFA World C...</td>\n      <td>https://image.pixstory.com/Pixstory-image-1666...</td>\n      <td>2022-09-04 20:27:12</td>\n      <td>Technology, History, Food, Entertainment, Spor...</td>\n      <td>World Volleyball Championships (men), US Open</td>\n    </tr>\n    <tr>\n      <th>4</th>\n      <td>156577</td>\n      <td>STY1666111463</td>\n      <td>9221</td>\n      <td>USR1632727815</td>\n      <td>male</td>\n      <td>23</td>\n      <td>Froyo always makes everyone happy, make this h...</td>\n      <td>&lt;p dir=\"ltr\"&gt;&lt;/p&gt;\\n&lt;p dir=\"ltr\"&gt;Almost all of ...</td>\n      <td>https://image.pixstory.com/Pixstory-image-1666...</td>\n      <td>2021-09-27 13:00:15</td>\n      <td>Science, Inequality, Education, Technology, He...</td>\n      <td></td>\n    </tr>\n    <tr>\n      <th>...</th>\n      <td>...</td>\n      <td>...</td>\n      <td>...</td>\n      <td>...</td>\n      <td>...</td>\n      <td>...</td>\n      <td>...</td>\n      <td>...</td>\n      <td>...</td>\n      <td>...</td>\n      <td>...</td>\n      <td>...</td>\n    </tr>\n    <tr>\n      <th>94995</th>\n      <td>95021</td>\n      <td>STY1650382324</td>\n      <td>22770</td>\n      <td>USR1642425119</td>\n      <td>male</td>\n      <td>40</td>\n      <td>Ronaldo salta la trasferta di Liverpool</td>\n      <td>Il Manchester United ha annunciato l'assenza d...</td>\n      <td>https://image.pixstory.com/Pixstory-image-1650...</td>\n      <td>2022-01-17 18:41:59</td>\n      <td>calcio, premier league, cristiano ronaldo, man...</td>\n      <td>Africa Cup of Nations, Australian Open</td>\n    </tr>\n    <tr>\n      <th>94996</th>\n      <td>95020</td>\n      <td>STY1650381837</td>\n      <td>32577</td>\n      <td>USR1650381467</td>\n      <td>NaN</td>\n      <td>15</td>\n      <td>Name-vishal\\nFather name-Amod\\nClass-7\\nAge-13...</td>\n      <td>Earthday</td>\n      <td>https://image.pixstory.com/Pixstory-image-1650...</td>\n      <td>2022-04-19 20:47:47</td>\n      <td>chintan</td>\n      <td>Invictus Games, World Snooker Championship</td>\n    </tr>\n    <tr>\n      <th>94997</th>\n      <td>95019</td>\n      <td>STY1650381574</td>\n      <td>32498</td>\n      <td>USR1650370047</td>\n      <td>NaN</td>\n      <td>15</td>\n      <td>Earth day</td>\n      <td>Name Muskan \\nClass 8\\nSex f</td>\n      <td>https://image.pixstory.com/Pixstory-image-1650...</td>\n      <td>2022-04-19 17:37:27</td>\n      <td>chintan</td>\n      <td>Invictus Games, World Snooker Championship</td>\n    </tr>\n    <tr>\n      <th>94998</th>\n      <td>95018</td>\n      <td>STY1650380690</td>\n      <td>32574</td>\n      <td>USR1650380153</td>\n      <td>NaN</td>\n      <td>12</td>\n      <td>Name-puneet\\nclass-6th\\nfather name-Ramkishan\\...</td>\n      <td>Earthday</td>\n      <td>https://image.pixstory.com/Pixstory-image-1650...</td>\n      <td>2022-04-19 20:25:53</td>\n      <td>chintan</td>\n      <td>Invictus Games, World Snooker Championship</td>\n    </tr>\n    <tr>\n      <th>94999</th>\n      <td>95017</td>\n      <td>STY1650380622</td>\n      <td>28955</td>\n      <td>USR1647204389</td>\n      <td>male</td>\n      <td>25</td>\n      <td>The Derby that Matters.</td>\n      <td>Time stands still at Merseyside, as Anfield we...</td>\n      <td>https://image.pixstory.com/Pixstory-image-1650...</td>\n      <td>2022-03-14 02:16:29</td>\n      <td>football, premier league, ynwa, liverpool, man...</td>\n      <td>Six Nations, ODI World Cup for women</td>\n    </tr>\n  </tbody>\n</table>\n<p>95000 rows × 12 columns</p>\n</div>"
     },
     "execution_count": 55,
     "metadata": {},
     "output_type": "execute_result"
    }
   ],
   "source": [
    "df1 = pd.read_csv('../Master_Dataset_Raw.csv')\n",
    "df2 = pd.read_csv(\"sports_events_final.csv\")\n",
    "\n",
    "og_dates = df1['Account Created Date']\n",
    "\n",
    "# Convert \"Account Created Date\" column in df1 to datetime\n",
    "df1['Account Created Date'] = pd.to_datetime(df1['Account Created Date'])\n",
    "\n",
    "# Convert \"Date\" column in df2 to datetime\n",
    "df2['Date'] = pd.to_datetime(df2['Date'])\n",
    "\n",
    "# merge the two dataframes based on the dates\n",
    "merged_df = pd.merge(df1, df2[['Date', 'Event']], how='left', left_on=df1['Account Created Date'].dt.date, right_on=df2['Date'].dt.date)\n",
    "\n",
    "# drop the duplicate date column\n",
    "merged_df = merged_df.drop('key_0', axis=1)\n",
    "\n",
    "# rename the 'Event' column to 'Events'\n",
    "merged_df = merged_df.rename(columns={'Event': 'Events'})\n",
    "\n",
    "# set the 'Events' column to NaN where there is no matching date\n",
    "merged_df.loc[merged_df['Events'].isna(), 'Events'] = ''\n",
    "\n",
    "# drop the duplicate date column\n",
    "merged_df = merged_df.drop('Date', axis=1)\n",
    "\n",
    "merged_df = merged_df.rename(columns={'Events': 'Sports Events'})\n",
    "\n",
    "merged_df.to_csv('Master_Dataset_Raw_SportsEvents.csv', index=False)\n",
    "\n",
    "# display the resulting dataframe\n",
    "merged_df"
   ],
   "metadata": {
    "collapsed": false
   }
  }
 ],
 "metadata": {
  "kernelspec": {
   "display_name": "Python 3",
   "language": "python",
   "name": "python3"
  },
  "language_info": {
   "codemirror_mode": {
    "name": "ipython",
    "version": 2
   },
   "file_extension": ".py",
   "mimetype": "text/x-python",
   "name": "python",
   "nbconvert_exporter": "python",
   "pygments_lexer": "ipython2",
   "version": "2.7.6"
  }
 },
 "nbformat": 4,
 "nbformat_minor": 0
}
