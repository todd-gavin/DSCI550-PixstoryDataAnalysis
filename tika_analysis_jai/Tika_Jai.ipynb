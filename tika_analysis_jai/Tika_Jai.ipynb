{
 "cells": [
  {
   "cell_type": "markdown",
   "source": [
    "# Steps to Compute TIKA Similarities - JAI\n",
    "These are the steps you need to compute the TIKA similarities\n",
    "\n",
    "## 1. Make TSV\n",
    "\n",
    "To make a tsv from our final dataset, I ran the following code:"
   ],
   "metadata": {
    "collapsed": false
   }
  },
  {
   "cell_type": "code",
   "execution_count": 1,
   "outputs": [],
   "source": [
    "import csv\n",
    "\n",
    "with open('../Master Datasets/final_dataset.csv', newline='') as infile, open('../Master Datasets/final_dataset.tsv', 'w', newline='') as outfile:\n",
    "    reader = csv.reader(infile)\n",
    "    writer = csv.writer(outfile, delimiter='\\t')\n",
    "    for row in reader:\n",
    "        writer.writerow(row)"
   ],
   "metadata": {
    "collapsed": false
   }
  },
  {
   "cell_type": "markdown",
   "source": [
    "## 2a. Convert the TSV into an aggregate JSON\n",
    "\n",
    "To convert this tsv into a json, run the following command in terminal in this directory:\n",
    "\n",
    "tsvtojson -t ../Master Datasets/final_dataset.tsv -j output_jsons/aggregate.json -c conf/column_headers.txt -o pixstoryposts -e conf/encoding.txt -s 0.8 -v\n",
    "\n",
    "terminal output:\n",
    "\n",
    "Deduping list of structs. Count: [95001]\n",
    "After dedup. Count: [95001]\n",
    "Near duplicates detection.\n",
    "Filtered 0 near duplicates.\n",
    "After near duplicates. Count: [95000]\n",
    "Writing output file: [output_jsons/aggregate.json]"
   ],
   "metadata": {
    "collapsed": false
   }
  },
  {
   "cell_type": "markdown",
   "source": [
    "## 2b. Convert the aggregate JSON into a directory of jsons\n",
    "\n",
    "Create a json directory, move into it\n",
    "\n",
    "mkdir json\n",
    "cd json\n",
    "\n",
    "and then run:\n",
    "\n",
    "repackage -j ../output_jsons/aggregate.json -o pixstoryposts -v\n",
    "\n",
    "You should get multiple statements like:\n",
    "\n",
    "Writing json file: [/Users/x]\n",
    "Writing json file: [/Users/x]\n",
    "Writing json file: [/Users/x]\n",
    "Writing json file: [/Users/x]\n",
    "\n",
    "The directory is now created."
   ],
   "metadata": {
    "collapsed": false
   }
  },
  {
   "cell_type": "markdown",
   "source": [
    "## 3. Tika-Similarity\n",
    "\n",
    "Go back to the parent folder,\n",
    "\n",
    "Run:\n",
    "\n",
    "similarity -f json -v"
   ],
   "metadata": {
    "collapsed": false
   }
  }
 ],
 "metadata": {
  "kernelspec": {
   "display_name": "Python 3",
   "language": "python",
   "name": "python3"
  },
  "language_info": {
   "codemirror_mode": {
    "name": "ipython",
    "version": 2
   },
   "file_extension": ".py",
   "mimetype": "text/x-python",
   "name": "python",
   "nbconvert_exporter": "python",
   "pygments_lexer": "ipython2",
   "version": "2.7.6"
  }
 },
 "nbformat": 4,
 "nbformat_minor": 0
}
