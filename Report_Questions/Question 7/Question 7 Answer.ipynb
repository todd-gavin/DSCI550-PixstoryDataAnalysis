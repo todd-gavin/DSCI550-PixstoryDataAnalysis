{
 "cells": [
  {
   "cell_type": "markdown",
   "source": [
    "# Question 7 Answer\n",
    "- make a reference that Jaccard and Edit-Similarity seemed to be more sensible than Cosine similarity.\n",
    "- put the 3 visualisations in the \"visualisations\" directory in the Appendix.\n",
    "- Jaccard Similarity clusters separates on age, gender.\n",
    "- Edit-Distance Similarity binds to snapchat revenues (dataset that we added), and clusters based on different monthly revenues found. (we think this is what it's done, based on looking at the jsons)\n",
    "- cosine doesnt do much"
   ],
   "metadata": {
    "collapsed": false
   }
  },
  {
   "cell_type": "markdown",
   "source": [],
   "metadata": {
    "collapsed": false
   }
  }
 ],
 "metadata": {
  "kernelspec": {
   "display_name": "Python 3",
   "language": "python",
   "name": "python3"
  },
  "language_info": {
   "codemirror_mode": {
    "name": "ipython",
    "version": 2
   },
   "file_extension": ".py",
   "mimetype": "text/x-python",
   "name": "python",
   "nbconvert_exporter": "python",
   "pygments_lexer": "ipython2",
   "version": "2.7.6"
  }
 },
 "nbformat": 4,
 "nbformat_minor": 0
}
