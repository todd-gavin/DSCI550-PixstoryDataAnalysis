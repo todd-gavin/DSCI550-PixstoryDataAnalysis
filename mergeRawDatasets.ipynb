{
 "cells": [
  {
   "cell_type": "code",
   "execution_count": 6,
   "metadata": {},
   "outputs": [],
   "source": [
    "import pandas as pd"
   ]
  },
  {
   "cell_type": "code",
   "execution_count": 9,
   "metadata": {},
   "outputs": [],
   "source": [
    "# Read in the CSV files with headers\n",
    "df1 = pd.read_csv('PixstoryDatasetFeb2023[RAW]/data1.csv', header=0)\n",
    "df2 = pd.read_csv('PixstoryDatasetFeb2023[RAW]/15000 data.csv', header=0)\n",
    "df3 = pd.read_csv('PixstoryDatasetFeb2023[RAW]/15000 data 18 Nov.csv', header=0)\n",
    "df4 = pd.read_csv('PixstoryDatasetFeb2023[RAW]/15000 data 10 Nov.csv', header=0)\n",
    "df5 = pd.read_csv('PixstoryDatasetFeb2023[RAW]/10000 data.csv', header=0)\n",
    "df6 = pd.read_csv('PixstoryDatasetFeb2023[RAW]/10000 data 18 Nov.csv', header=0)\n",
    "df7 = pd.read_csv('PixstoryDatasetFeb2023[RAW]/10000 data 10Nov .csv', header=0)"
   ]
  },
  {
   "cell_type": "code",
   "execution_count": 13,
   "metadata": {},
   "outputs": [],
   "source": [
    "# Merge the data frames using pd.concat()\n",
    "merged_df = pd.concat([df1, df2, df3, df4, df5, df6, df7])\n",
    "\n",
    "# Alternatively, merge the data frames based on a specific column using pd.merge()\n",
    "# merged_df = pd.merge(df1, df2, on='column_name')"
   ]
  },
  {
   "cell_type": "code",
   "execution_count": 14,
   "metadata": {},
   "outputs": [],
   "source": [
    "\n",
    "# Save the merged data frame to a new CSV file with headers\n",
    "merged_df.to_csv('Master_Dataset_Raw.csv', index=False)"
   ]
  },
  {
   "cell_type": "code",
   "execution_count": 15,
   "metadata": {},
   "outputs": [
    {
     "name": "stdout",
     "output_type": "stream",
     "text": [
      "<bound method NDFrame.head of       Story Primary ID       Story ID  User Primary ID        User ID Gender  \\\n",
      "0               156581  STY1666112066            86625  USR1662300553    NaN   \n",
      "1               156580  STY1666111954           119236  USR1665943314    NaN   \n",
      "2               156579  STY1666111923            86566  USR1662294899    NaN   \n",
      "3               156578  STY1666111798            86655  USR1662303432    NaN   \n",
      "4               156577  STY1666111463             9221  USR1632727815   male   \n",
      "...                ...            ...              ...            ...    ...   \n",
      "9995             95021  STY1650382324            22770  USR1642425119   male   \n",
      "9996             95020  STY1650381837            32577  USR1650381467    NaN   \n",
      "9997             95019  STY1650381574            32498  USR1650370047    NaN   \n",
      "9998             95018  STY1650380690            32574  USR1650380153    NaN   \n",
      "9999             95017  STY1650380622            28955  USR1647204389   male   \n",
      "\n",
      "      Age                                              Title  \\\n",
      "0      12  Qatar Airways cuts flights to accommodate FIFA...   \n",
      "1      18  Positive thinking does not necessarily mean av...   \n",
      "2      12  FIFA negotiating 'initiatives' for Qatar migra...   \n",
      "3      12  Qatar ready for the World Cup in just over a m...   \n",
      "4      23  Froyo always makes everyone happy, make this h...   \n",
      "...   ...                                                ...   \n",
      "9995   40            Ronaldo salta la trasferta di Liverpool   \n",
      "9996   15  Name-vishal\\nFather name-Amod\\nClass-7\\nAge-13...   \n",
      "9997   15                                          Earth day   \n",
      "9998   12  Name-puneet\\nclass-6th\\nfather name-Ramkishan\\...   \n",
      "9999   25                            The Derby that Matters.   \n",
      "\n",
      "                                              Narrative  \\\n",
      "0     <p dir=\"ltr\">Qatar Airways&#160;has withdrawn ...   \n",
      "1     <p dir=\"ltr\">Positive thinking does not necess...   \n",
      "2     <p dir=\"ltr\">FIFA's president sought Monday to...   \n",
      "3     <p dir=\"ltr\">Ticket sales for the FIFA World C...   \n",
      "4     <p dir=\"ltr\"></p>\\n<p dir=\"ltr\">Almost all of ...   \n",
      "...                                                 ...   \n",
      "9995  Il Manchester United ha annunciato l'assenza d...   \n",
      "9996                                           Earthday   \n",
      "9997                       Name Muskan \\nClass 8\\nSex f   \n",
      "9998                                           Earthday   \n",
      "9999  Time stands still at Merseyside, as Anfield we...   \n",
      "\n",
      "                                                  Media Account Created Date  \\\n",
      "0     https://image.pixstory.com/Pixstory-image-1666...  2022-09-04 19:39:13   \n",
      "1     https://image.pixstory.com/Pixstory-image-1666...  2022-10-16 23:31:54   \n",
      "2     https://image.pixstory.com/Pixstory-image-1666...  2022-09-04 18:04:59   \n",
      "3     https://image.pixstory.com/Pixstory-image-1666...  2022-09-04 20:27:12   \n",
      "4     https://image.pixstory.com/Pixstory-image-1666...  2021-09-27 13:00:15   \n",
      "...                                                 ...                  ...   \n",
      "9995  https://image.pixstory.com/Pixstory-image-1650...  2022-01-17 18:41:59   \n",
      "9996  https://image.pixstory.com/Pixstory-image-1650...  2022-04-19 20:47:47   \n",
      "9997  https://image.pixstory.com/Pixstory-image-1650...  2022-04-19 17:37:27   \n",
      "9998  https://image.pixstory.com/Pixstory-image-1650...  2022-04-19 20:25:53   \n",
      "9999  https://image.pixstory.com/Pixstory-image-1650...  2022-03-14 02:16:29   \n",
      "\n",
      "                                               Interest  \n",
      "0     Technology, History, Food, Entertainment, Spor...  \n",
      "1     Technology, History, Food, Entertainment, Spor...  \n",
      "2     Technology, History, Food, Entertainment, Spor...  \n",
      "3     Technology, History, Food, Entertainment, Spor...  \n",
      "4     Science, Inequality, Education, Technology, He...  \n",
      "...                                                 ...  \n",
      "9995  calcio, premier league, cristiano ronaldo, man...  \n",
      "9996                                            chintan  \n",
      "9997                                            chintan  \n",
      "9998                                            chintan  \n",
      "9999  football, premier league, ynwa, liverpool, man...  \n",
      "\n",
      "[95000 rows x 11 columns]>\n"
     ]
    }
   ],
   "source": [
    "print(merged_df.head)"
   ]
  }
 ],
 "metadata": {
  "kernelspec": {
   "display_name": "base",
   "language": "python",
   "name": "python3"
  },
  "language_info": {
   "codemirror_mode": {
    "name": "ipython",
    "version": 3
   },
   "file_extension": ".py",
   "mimetype": "text/x-python",
   "name": "python",
   "nbconvert_exporter": "python",
   "pygments_lexer": "ipython3",
   "version": "3.9.13"
  },
  "orig_nbformat": 4,
  "vscode": {
   "interpreter": {
    "hash": "e862235458dcc43ce60f6439dfba4578949053168f0a6b8272bc7c7b0264254d"
   }
  }
 },
 "nbformat": 4,
 "nbformat_minor": 2
}
