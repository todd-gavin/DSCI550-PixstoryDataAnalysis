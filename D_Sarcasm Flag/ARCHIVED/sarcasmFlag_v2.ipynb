{
 "cells": [
  {
   "cell_type": "code",
   "execution_count": 1,
   "metadata": {},
   "outputs": [
    {
     "name": "stderr",
     "output_type": "stream",
     "text": [
      "[nltk_data] Downloading package stopwords to\n",
      "[nltk_data]     /Users/toddgavin/nltk_data...\n",
      "[nltk_data]   Unzipping corpora/stopwords.zip.\n"
     ]
    },
    {
     "data": {
      "text/plain": [
       "True"
      ]
     },
     "execution_count": 1,
     "metadata": {},
     "output_type": "execute_result"
    }
   ],
   "source": [
    "import pandas as pd\n",
    "import numpy as np\n",
    "from sklearn.feature_extraction.text import TfidfVectorizer\n",
    "from sklearn.model_selection import train_test_split\n",
    "from sklearn.naive_bayes import MultinomialNB\n",
    "import nltk\n",
    "from nltk.corpus import stopwords\n",
    "nltk.download('stopwords')"
   ]
  },
  {
   "attachments": {},
   "cell_type": "markdown",
   "metadata": {},
   "source": [
    "Add a flag for sarcasm by comparing the post text to https://nlds.soe.ucsc.edu/sarcasm1. Compare the text of the post with the sarcasm corpus and add a flag for detected or not."
   ]
  },
  {
   "attachments": {},
   "cell_type": "markdown",
   "metadata": {},
   "source": [
    "# Sarcasm Text"
   ]
  },
  {
   "cell_type": "code",
   "execution_count": 2,
   "metadata": {},
   "outputs": [],
   "source": [
    "sarcasmTextList = []\n",
    "\n",
    "for i in range(1, 1000):\n",
    "    \n",
    "    try: \n",
    "        # Open file in read mode\n",
    "        with open('data-sarc-sample/sarc/sarcastic_' + str(i) + '.txt', 'r') as file:\n",
    "            # Read the entire contents of the file into a string variable\n",
    "            sarcasm_text = file.read()\n",
    "    \n",
    "        sarcasmTextList.append(sarcasm_text)\n",
    "        \n",
    "    finally:\n",
    "        continue"
   ]
  },
  {
   "cell_type": "code",
   "execution_count": 3,
   "metadata": {},
   "outputs": [],
   "source": [
    "# Create a pandas DataFrame with the list of strings\n",
    "df_sarcasm = pd.DataFrame({'Sarcasm Text': sarcasmTextList})"
   ]
  },
  {
   "cell_type": "code",
   "execution_count": 4,
   "metadata": {},
   "outputs": [
    {
     "data": {
      "text/html": [
       "<div>\n",
       "<style scoped>\n",
       "    .dataframe tbody tr th:only-of-type {\n",
       "        vertical-align: middle;\n",
       "    }\n",
       "\n",
       "    .dataframe tbody tr th {\n",
       "        vertical-align: top;\n",
       "    }\n",
       "\n",
       "    .dataframe thead th {\n",
       "        text-align: right;\n",
       "    }\n",
       "</style>\n",
       "<table border=\"1\" class=\"dataframe\">\n",
       "  <thead>\n",
       "    <tr style=\"text-align: right;\">\n",
       "      <th></th>\n",
       "      <th>Sarcasm Text</th>\n",
       "    </tr>\n",
       "  </thead>\n",
       "  <tbody>\n",
       "    <tr>\n",
       "      <th>0</th>\n",
       "      <td>Actually, they didn't. The whole tragedy was c...</td>\n",
       "    </tr>\n",
       "    <tr>\n",
       "      <th>1</th>\n",
       "      <td>At your service:   Comparison   I could've jus...</td>\n",
       "    </tr>\n",
       "    <tr>\n",
       "      <th>2</th>\n",
       "      <td>So which is it: the action is moral, the actio...</td>\n",
       "    </tr>\n",
       "    <tr>\n",
       "      <th>3</th>\n",
       "      <td>Interesting how the study was set in Pittsburg...</td>\n",
       "    </tr>\n",
       "    <tr>\n",
       "      <th>4</th>\n",
       "      <td>Ah, I see.   Your reasons are secret reasons. ...</td>\n",
       "    </tr>\n",
       "    <tr>\n",
       "      <th>...</th>\n",
       "      <td>...</td>\n",
       "    </tr>\n",
       "    <tr>\n",
       "      <th>992</th>\n",
       "      <td>and</td>\n",
       "    </tr>\n",
       "    <tr>\n",
       "      <th>993</th>\n",
       "      <td>Ha, that is just an idiotic perspective. We'd ...</td>\n",
       "    </tr>\n",
       "    <tr>\n",
       "      <th>994</th>\n",
       "      <td>So you are saying that despite the majority of...</td>\n",
       "    </tr>\n",
       "    <tr>\n",
       "      <th>995</th>\n",
       "      <td>depends on your definition of \"human being.\"</td>\n",
       "    </tr>\n",
       "    <tr>\n",
       "      <th>996</th>\n",
       "      <td>So? Life is cheap. You can't change that, the ...</td>\n",
       "    </tr>\n",
       "  </tbody>\n",
       "</table>\n",
       "<p>997 rows × 1 columns</p>\n",
       "</div>"
      ],
      "text/plain": [
       "                                          Sarcasm Text\n",
       "0    Actually, they didn't. The whole tragedy was c...\n",
       "1    At your service:   Comparison   I could've jus...\n",
       "2    So which is it: the action is moral, the actio...\n",
       "3    Interesting how the study was set in Pittsburg...\n",
       "4    Ah, I see.   Your reasons are secret reasons. ...\n",
       "..                                                 ...\n",
       "992                                                and\n",
       "993  Ha, that is just an idiotic perspective. We'd ...\n",
       "994  So you are saying that despite the majority of...\n",
       "995       depends on your definition of \"human being.\"\n",
       "996  So? Life is cheap. You can't change that, the ...\n",
       "\n",
       "[997 rows x 1 columns]"
      ]
     },
     "execution_count": 4,
     "metadata": {},
     "output_type": "execute_result"
    }
   ],
   "source": [
    "df_sarcasm"
   ]
  },
  {
   "attachments": {},
   "cell_type": "markdown",
   "metadata": {},
   "source": [
    "# Non-Sarcasm Text"
   ]
  },
  {
   "cell_type": "code",
   "execution_count": 5,
   "metadata": {},
   "outputs": [],
   "source": [
    "notSarcasmTextList = []\n",
    "\n",
    "for i in range(1, 1000):\n",
    "    \n",
    "    try: \n",
    "        # Open file in read mode\n",
    "        with open('data-sarc-sample/notsarc/not_sarcastic_' + str(i) + '.txt', 'r') as file:\n",
    "            # Read the entire contents of the file into a string variable\n",
    "            not_sarcasm_text = file.read()\n",
    "    \n",
    "        notSarcasmTextList.append(not_sarcasm_text)\n",
    "        \n",
    "    finally:\n",
    "        continue"
   ]
  },
  {
   "cell_type": "code",
   "execution_count": 6,
   "metadata": {},
   "outputs": [],
   "source": [
    "# Create a pandas DataFrame with the list of strings\n",
    "df_not_sarcasm = pd.DataFrame({'Not Sarcasm Text': notSarcasmTextList})"
   ]
  },
  {
   "cell_type": "code",
   "execution_count": 7,
   "metadata": {},
   "outputs": [
    {
     "data": {
      "text/html": [
       "<div>\n",
       "<style scoped>\n",
       "    .dataframe tbody tr th:only-of-type {\n",
       "        vertical-align: middle;\n",
       "    }\n",
       "\n",
       "    .dataframe tbody tr th {\n",
       "        vertical-align: top;\n",
       "    }\n",
       "\n",
       "    .dataframe thead th {\n",
       "        text-align: right;\n",
       "    }\n",
       "</style>\n",
       "<table border=\"1\" class=\"dataframe\">\n",
       "  <thead>\n",
       "    <tr style=\"text-align: right;\">\n",
       "      <th></th>\n",
       "      <th>Not Sarcasm Text</th>\n",
       "    </tr>\n",
       "  </thead>\n",
       "  <tbody>\n",
       "    <tr>\n",
       "      <th>0</th>\n",
       "      <td>This is a pretty touchy issue, and I agree wit...</td>\n",
       "    </tr>\n",
       "    <tr>\n",
       "      <th>1</th>\n",
       "      <td>See above</td>\n",
       "    </tr>\n",
       "    <tr>\n",
       "      <th>2</th>\n",
       "      <td>In other words, you think a Supreme Court deci...</td>\n",
       "    </tr>\n",
       "    <tr>\n",
       "      <th>3</th>\n",
       "      <td>um, yeah, you could say that... (won't argue.....</td>\n",
       "    </tr>\n",
       "    <tr>\n",
       "      <th>4</th>\n",
       "      <td>Well, Google is your friend here - try fossil ...</td>\n",
       "    </tr>\n",
       "    <tr>\n",
       "      <th>...</th>\n",
       "      <td>...</td>\n",
       "    </tr>\n",
       "    <tr>\n",
       "      <th>991</th>\n",
       "      <td>Thanks, my friend, as you can see, Jito comple...</td>\n",
       "    </tr>\n",
       "    <tr>\n",
       "      <th>992</th>\n",
       "      <td>What do you mean by this? Could we not have th...</td>\n",
       "    </tr>\n",
       "    <tr>\n",
       "      <th>993</th>\n",
       "      <td>And the answer is: we don't know. Maybe it cam...</td>\n",
       "    </tr>\n",
       "    <tr>\n",
       "      <th>994</th>\n",
       "      <td>And what would make them separate species? How...</td>\n",
       "    </tr>\n",
       "    <tr>\n",
       "      <th>995</th>\n",
       "      <td>This decision was not solely based on self, bu...</td>\n",
       "    </tr>\n",
       "  </tbody>\n",
       "</table>\n",
       "<p>996 rows × 1 columns</p>\n",
       "</div>"
      ],
      "text/plain": [
       "                                      Not Sarcasm Text\n",
       "0    This is a pretty touchy issue, and I agree wit...\n",
       "1                                            See above\n",
       "2    In other words, you think a Supreme Court deci...\n",
       "3    um, yeah, you could say that... (won't argue.....\n",
       "4    Well, Google is your friend here - try fossil ...\n",
       "..                                                 ...\n",
       "991  Thanks, my friend, as you can see, Jito comple...\n",
       "992  What do you mean by this? Could we not have th...\n",
       "993  And the answer is: we don't know. Maybe it cam...\n",
       "994  And what would make them separate species? How...\n",
       "995  This decision was not solely based on self, bu...\n",
       "\n",
       "[996 rows x 1 columns]"
      ]
     },
     "execution_count": 7,
     "metadata": {},
     "output_type": "execute_result"
    }
   ],
   "source": [
    "df_not_sarcasm"
   ]
  },
  {
   "attachments": {},
   "cell_type": "markdown",
   "metadata": {},
   "source": [
    "# Implementing Flag Detection"
   ]
  },
  {
   "cell_type": "code",
   "execution_count": 8,
   "metadata": {},
   "outputs": [],
   "source": [
    "df_master_dataset = pd.read_csv(\"../Master_Dataset_Raw.csv\")"
   ]
  },
  {
   "cell_type": "code",
   "execution_count": 12,
   "metadata": {},
   "outputs": [
    {
     "data": {
      "text/html": [
       "<div>\n",
       "<style scoped>\n",
       "    .dataframe tbody tr th:only-of-type {\n",
       "        vertical-align: middle;\n",
       "    }\n",
       "\n",
       "    .dataframe tbody tr th {\n",
       "        vertical-align: top;\n",
       "    }\n",
       "\n",
       "    .dataframe thead th {\n",
       "        text-align: right;\n",
       "    }\n",
       "</style>\n",
       "<table border=\"1\" class=\"dataframe\">\n",
       "  <thead>\n",
       "    <tr style=\"text-align: right;\">\n",
       "      <th></th>\n",
       "      <th>Sarcasm Text</th>\n",
       "      <th>label</th>\n",
       "      <th>Not Sarcasm Text</th>\n",
       "    </tr>\n",
       "  </thead>\n",
       "  <tbody>\n",
       "    <tr>\n",
       "      <th>0</th>\n",
       "      <td>Actually, they didn't. The whole tragedy was c...</td>\n",
       "      <td>1</td>\n",
       "      <td>NaN</td>\n",
       "    </tr>\n",
       "    <tr>\n",
       "      <th>1</th>\n",
       "      <td>At your service:   Comparison   I could've jus...</td>\n",
       "      <td>1</td>\n",
       "      <td>NaN</td>\n",
       "    </tr>\n",
       "    <tr>\n",
       "      <th>2</th>\n",
       "      <td>So which is it: the action is moral, the actio...</td>\n",
       "      <td>1</td>\n",
       "      <td>NaN</td>\n",
       "    </tr>\n",
       "    <tr>\n",
       "      <th>3</th>\n",
       "      <td>Interesting how the study was set in Pittsburg...</td>\n",
       "      <td>1</td>\n",
       "      <td>NaN</td>\n",
       "    </tr>\n",
       "    <tr>\n",
       "      <th>4</th>\n",
       "      <td>Ah, I see.   Your reasons are secret reasons. ...</td>\n",
       "      <td>1</td>\n",
       "      <td>NaN</td>\n",
       "    </tr>\n",
       "    <tr>\n",
       "      <th>...</th>\n",
       "      <td>...</td>\n",
       "      <td>...</td>\n",
       "      <td>...</td>\n",
       "    </tr>\n",
       "    <tr>\n",
       "      <th>1988</th>\n",
       "      <td>NaN</td>\n",
       "      <td>0</td>\n",
       "      <td>Thanks, my friend, as you can see, Jito comple...</td>\n",
       "    </tr>\n",
       "    <tr>\n",
       "      <th>1989</th>\n",
       "      <td>NaN</td>\n",
       "      <td>0</td>\n",
       "      <td>What do you mean by this? Could we not have th...</td>\n",
       "    </tr>\n",
       "    <tr>\n",
       "      <th>1990</th>\n",
       "      <td>NaN</td>\n",
       "      <td>0</td>\n",
       "      <td>And the answer is: we don't know. Maybe it cam...</td>\n",
       "    </tr>\n",
       "    <tr>\n",
       "      <th>1991</th>\n",
       "      <td>NaN</td>\n",
       "      <td>0</td>\n",
       "      <td>And what would make them separate species? How...</td>\n",
       "    </tr>\n",
       "    <tr>\n",
       "      <th>1992</th>\n",
       "      <td>NaN</td>\n",
       "      <td>0</td>\n",
       "      <td>This decision was not solely based on self, bu...</td>\n",
       "    </tr>\n",
       "  </tbody>\n",
       "</table>\n",
       "<p>1993 rows × 3 columns</p>\n",
       "</div>"
      ],
      "text/plain": [
       "                                           Sarcasm Text  label  \\\n",
       "0     Actually, they didn't. The whole tragedy was c...      1   \n",
       "1     At your service:   Comparison   I could've jus...      1   \n",
       "2     So which is it: the action is moral, the actio...      1   \n",
       "3     Interesting how the study was set in Pittsburg...      1   \n",
       "4     Ah, I see.   Your reasons are secret reasons. ...      1   \n",
       "...                                                 ...    ...   \n",
       "1988                                                NaN      0   \n",
       "1989                                                NaN      0   \n",
       "1990                                                NaN      0   \n",
       "1991                                                NaN      0   \n",
       "1992                                                NaN      0   \n",
       "\n",
       "                                       Not Sarcasm Text  \n",
       "0                                                   NaN  \n",
       "1                                                   NaN  \n",
       "2                                                   NaN  \n",
       "3                                                   NaN  \n",
       "4                                                   NaN  \n",
       "...                                                 ...  \n",
       "1988  Thanks, my friend, as you can see, Jito comple...  \n",
       "1989  What do you mean by this? Could we not have th...  \n",
       "1990  And the answer is: we don't know. Maybe it cam...  \n",
       "1991  And what would make them separate species? How...  \n",
       "1992  This decision was not solely based on self, bu...  \n",
       "\n",
       "[1993 rows x 3 columns]"
      ]
     },
     "execution_count": 12,
     "metadata": {},
     "output_type": "execute_result"
    }
   ],
   "source": [
    "# create the target variable\n",
    "df_sarcasm['label'] = 1\n",
    "df_not_sarcasm['label'] = 0\n",
    "\n",
    "# combine the two dataframes into one\n",
    "df_combined = pd.concat([df_sarcasm, df_not_sarcasm], ignore_index=True)\n",
    "\n",
    "df_combined\n",
    "\n",
    "# split the combined dataframe into train and test sets\n",
    "# X_train, X_test, y_train, y_test = train_test_split(df_combined['text'], df_combined['label'], test_size=0.2, random_state=42)"
   ]
  },
  {
   "cell_type": "code",
   "execution_count": null,
   "metadata": {},
   "outputs": [],
   "source": [
    "stop_words = set(stopwords.words('english'))\n",
    "\n",
    "def preprocess(text):\n",
    "    # remove punctuation and convert to lowercase\n",
    "    text = ''.join([word.lower() for word in text if word.isalnum() or word.isspace()])\n",
    "    # remove stop words\n",
    "    text = ' '.join([word for word in text.split() if word not in stop_words])\n",
    "    return text"
   ]
  },
  {
   "cell_type": "code",
   "execution_count": null,
   "metadata": {},
   "outputs": [],
   "source": [
    "# apply the preprocessing function to the train and test sets\n",
    "X_train = X_train.apply(preprocess)\n",
    "X_test = X_test.apply(preprocess)"
   ]
  },
  {
   "cell_type": "code",
   "execution_count": null,
   "metadata": {},
   "outputs": [],
   "source": [
    "# initialize the vectorizer\n",
    "vectorizer = TfidfVectorizer()\n",
    "\n",
    "# fit and transform the vectorizer on the train set\n",
    "X_train_vectorized = vectorizer.fit_transform(X_train)\n",
    "\n",
    "# transform the test set\n",
    "X_test_vectorized = vectorizer.transform(X_test)"
   ]
  },
  {
   "cell_type": "code",
   "execution_count": null,
   "metadata": {},
   "outputs": [],
   "source": [
    "# initialize the model\n",
    "model = MultinomialNB()\n",
    "\n",
    "# fit the model on the vectorized train set\n",
    "model.fit(X_train_vectorized, y_train)"
   ]
  },
  {
   "cell_type": "code",
   "execution_count": null,
   "metadata": {},
   "outputs": [],
   "source": [
    "# preprocess the text in the 'Narrative' column\n",
    "df_master_dataset['Narrative'] = df_master_dataset['Narrative'].apply(preprocess)\n",
    "\n",
    "# vectorize the text in the 'Narrative' column\n",
    "narrative_vectorized = vectorizer.transform(df_master_dataset['Narrative'])\n",
    "\n",
    "# make predictions on the vectorized 'Narrative' column\n",
    "predictions = model.predict(narrative_vectorized)\n",
    "\n",
    "# add the predictions as a new column to the 'df_master_dataset'\n",
    "df_master_dataset['Sarcasm'] = predictions"
   ]
  }
 ],
 "metadata": {
  "kernelspec": {
   "display_name": "base",
   "language": "python",
   "name": "python3"
  },
  "language_info": {
   "codemirror_mode": {
    "name": "ipython",
    "version": 3
   },
   "file_extension": ".py",
   "mimetype": "text/x-python",
   "name": "python",
   "nbconvert_exporter": "python",
   "pygments_lexer": "ipython3",
   "version": "3.9.13"
  },
  "orig_nbformat": 4,
  "vscode": {
   "interpreter": {
    "hash": "e862235458dcc43ce60f6439dfba4578949053168f0a6b8272bc7c7b0264254d"
   }
  }
 },
 "nbformat": 4,
 "nbformat_minor": 2
}
