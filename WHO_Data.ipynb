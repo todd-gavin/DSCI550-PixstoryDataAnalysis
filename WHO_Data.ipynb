{
 "cells": [
  {
   "cell_type": "code",
   "execution_count": 5,
   "metadata": {},
   "outputs": [],
   "source": [
    "import requests\n",
    "import xml.etree.ElementTree as ET\n",
    "import xml.dom.minidom as minidom"
   ]
  },
  {
   "cell_type": "code",
   "execution_count": 3,
   "metadata": {},
   "outputs": [],
   "source": [
    "\n",
    "# Define the API endpoint URL and parameters\n",
    "url = 'https://apps.who.int/gho/athena/api/COUNTRY?filter=COUNTRY:UGA;YEAR:2020;MONTH:1;SEX:BTSX;GHECAUSES:-1'\n",
    "headers = {'Accept': 'application/xml'}"
   ]
  },
  {
   "cell_type": "code",
   "execution_count": 4,
   "metadata": {},
   "outputs": [
    {
     "name": "stdout",
     "output_type": "stream",
     "text": [
      "XML data saved to deaths_jan_2020_uganda.xml\n"
     ]
    }
   ],
   "source": [
    "# Make the API request using the requests library\n",
    "response = requests.get(url, headers=headers)\n",
    "\n",
    "# Check the status code of the response to ensure the request was successful\n",
    "if response.status_code == 200:\n",
    "    # If the request was successful, create a new file with the XML data\n",
    "    xml_data = response.text\n",
    "    with open('deaths_jan_2020_uganda.xml', 'w') as f:\n",
    "        f.write(xml_data)\n",
    "    print('XML data saved to deaths_jan_2020_uganda.xml')\n",
    "else:\n",
    "    # If the request was unsuccessful, print an error message\n",
    "    print('Error retrieving XML data: ' + response.status_code)"
   ]
  },
  {
   "cell_type": "code",
   "execution_count": 6,
   "metadata": {},
   "outputs": [
    {
     "name": "stdout",
     "output_type": "stream",
     "text": [
      "XML data saved to deaths_jan_2020_uganda.xml\n"
     ]
    },
    {
     "ename": "ExpatError",
     "evalue": "not well-formed (invalid token): line 234, column 19",
     "output_type": "error",
     "traceback": [
      "\u001b[0;31m---------------------------------------------------------------------------\u001b[0m",
      "\u001b[0;31mExpatError\u001b[0m                                Traceback (most recent call last)",
      "\u001b[1;32m/Users/daniilabbruzzese/Documents/Senior Year/DSCI 550/DSCI550-PixstoryDataAnalysis/WHO_Data.ipynb Cell 4\u001b[0m in \u001b[0;36m<cell line: 22>\u001b[0;34m()\u001b[0m\n\u001b[1;32m     <a href='vscode-notebook-cell:/Users/daniilabbruzzese/Documents/Senior%20Year/DSCI%20550/DSCI550-PixstoryDataAnalysis/WHO_Data.ipynb#W3sZmlsZQ%3D%3D?line=19'>20</a>\u001b[0m root \u001b[39m=\u001b[39m ET\u001b[39m.\u001b[39mfromstring(xml_data)\n\u001b[1;32m     <a href='vscode-notebook-cell:/Users/daniilabbruzzese/Documents/Senior%20Year/DSCI%20550/DSCI550-PixstoryDataAnalysis/WHO_Data.ipynb#W3sZmlsZQ%3D%3D?line=20'>21</a>\u001b[0m xml_str \u001b[39m=\u001b[39m ET\u001b[39m.\u001b[39mtostring(root, encoding\u001b[39m=\u001b[39m\u001b[39m'\u001b[39m\u001b[39mutf8\u001b[39m\u001b[39m'\u001b[39m, method\u001b[39m=\u001b[39m\u001b[39m'\u001b[39m\u001b[39mxml\u001b[39m\u001b[39m'\u001b[39m)\n\u001b[0;32m---> <a href='vscode-notebook-cell:/Users/daniilabbruzzese/Documents/Senior%20Year/DSCI%20550/DSCI550-PixstoryDataAnalysis/WHO_Data.ipynb#W3sZmlsZQ%3D%3D?line=21'>22</a>\u001b[0m pretty_xml \u001b[39m=\u001b[39m minidom\u001b[39m.\u001b[39;49mparseString(xml_str)\u001b[39m.\u001b[39mtoprettyxml(indent\u001b[39m=\u001b[39m\u001b[39m'\u001b[39m\u001b[39m    \u001b[39m\u001b[39m'\u001b[39m)\n\u001b[1;32m     <a href='vscode-notebook-cell:/Users/daniilabbruzzese/Documents/Senior%20Year/DSCI%20550/DSCI550-PixstoryDataAnalysis/WHO_Data.ipynb#W3sZmlsZQ%3D%3D?line=22'>23</a>\u001b[0m \u001b[39mprint\u001b[39m(pretty_xml)\n",
      "File \u001b[0;32m/Library/Frameworks/Python.framework/Versions/3.9/lib/python3.9/xml/dom/minidom.py:1998\u001b[0m, in \u001b[0;36mparseString\u001b[0;34m(string, parser)\u001b[0m\n\u001b[1;32m   1996\u001b[0m \u001b[39mif\u001b[39;00m parser \u001b[39mis\u001b[39;00m \u001b[39mNone\u001b[39;00m:\n\u001b[1;32m   1997\u001b[0m     \u001b[39mfrom\u001b[39;00m \u001b[39mxml\u001b[39;00m\u001b[39m.\u001b[39;00m\u001b[39mdom\u001b[39;00m \u001b[39mimport\u001b[39;00m expatbuilder\n\u001b[0;32m-> 1998\u001b[0m     \u001b[39mreturn\u001b[39;00m expatbuilder\u001b[39m.\u001b[39;49mparseString(string)\n\u001b[1;32m   1999\u001b[0m \u001b[39melse\u001b[39;00m:\n\u001b[1;32m   2000\u001b[0m     \u001b[39mfrom\u001b[39;00m \u001b[39mxml\u001b[39;00m\u001b[39m.\u001b[39;00m\u001b[39mdom\u001b[39;00m \u001b[39mimport\u001b[39;00m pulldom\n",
      "File \u001b[0;32m/Library/Frameworks/Python.framework/Versions/3.9/lib/python3.9/xml/dom/expatbuilder.py:925\u001b[0m, in \u001b[0;36mparseString\u001b[0;34m(string, namespaces)\u001b[0m\n\u001b[1;32m    923\u001b[0m \u001b[39melse\u001b[39;00m:\n\u001b[1;32m    924\u001b[0m     builder \u001b[39m=\u001b[39m ExpatBuilder()\n\u001b[0;32m--> 925\u001b[0m \u001b[39mreturn\u001b[39;00m builder\u001b[39m.\u001b[39;49mparseString(string)\n",
      "File \u001b[0;32m/Library/Frameworks/Python.framework/Versions/3.9/lib/python3.9/xml/dom/expatbuilder.py:223\u001b[0m, in \u001b[0;36mExpatBuilder.parseString\u001b[0;34m(self, string)\u001b[0m\n\u001b[1;32m    221\u001b[0m parser \u001b[39m=\u001b[39m \u001b[39mself\u001b[39m\u001b[39m.\u001b[39mgetParser()\n\u001b[1;32m    222\u001b[0m \u001b[39mtry\u001b[39;00m:\n\u001b[0;32m--> 223\u001b[0m     parser\u001b[39m.\u001b[39;49mParse(string, \u001b[39mTrue\u001b[39;49;00m)\n\u001b[1;32m    224\u001b[0m     \u001b[39mself\u001b[39m\u001b[39m.\u001b[39m_setup_subset(string)\n\u001b[1;32m    225\u001b[0m \u001b[39mexcept\u001b[39;00m ParseEscape:\n",
      "\u001b[0;31mExpatError\u001b[0m: not well-formed (invalid token): line 234, column 19"
     ]
    }
   ],
   "source": [
    "\n",
    "# Define the API endpoint URL and parameters\n",
    "url = 'https://apps.who.int/gho/athena/api/COUNTRY?filter=COUNTRY:UGA;YEAR:2020;MONTH:1;SEX:BTSX;GHECAUSES:-1'\n",
    "headers = {'Accept': 'application/xml'}\n",
    "\n",
    "# Make the API request using the requests library\n",
    "response = requests.get(url, headers=headers)\n",
    "\n",
    "# Check the status code of the response to ensure the request was successful\n",
    "if response.status_code == 200:\n",
    "    # If the request was successful, create a new file with the XML data\n",
    "    xml_data = response.content\n",
    "    with open('deaths_jan_2020_uganda.xml', 'wb') as f:\n",
    "        f.write(xml_data)\n",
    "    print('XML data saved to deaths_jan_2020_uganda.xml')\n",
    "else:\n",
    "    # If the request was unsuccessful, print an error message\n",
    "    print('Error retrieving XML data: ' + response.status_code)\n",
    "\n",
    "# Pretty-print the XML data to the console\n",
    "root = ET.fromstring(xml_data)\n",
    "xml_str = ET.tostring(root, encoding='utf8', method='xml')\n",
    "pretty_xml = minidom.parseString(xml_str).toprettyxml(indent='    ')\n",
    "print(pretty_xml)\n",
    "\n"
   ]
  }
 ],
 "metadata": {
  "kernelspec": {
   "display_name": "Python 3.9.13 64-bit",
   "language": "python",
   "name": "python3"
  },
  "language_info": {
   "codemirror_mode": {
    "name": "ipython",
    "version": 3
   },
   "file_extension": ".py",
   "mimetype": "text/x-python",
   "name": "python",
   "nbconvert_exporter": "python",
   "pygments_lexer": "ipython3",
   "version": "3.9.13"
  },
  "orig_nbformat": 4,
  "vscode": {
   "interpreter": {
    "hash": "aee8b7b246df8f9039afb4144a1f6fd8d2ca17a180786b69acc140d282b71a49"
   }
  }
 },
 "nbformat": 4,
 "nbformat_minor": 2
}
