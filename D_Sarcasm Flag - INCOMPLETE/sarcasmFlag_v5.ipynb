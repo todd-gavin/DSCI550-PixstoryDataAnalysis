{
 "cells": [
  {
   "cell_type": "code",
   "execution_count": 30,
   "metadata": {
    "collapsed": true
   },
   "outputs": [],
   "source": [
    "import nltk\n",
    "from nltk.corpus import stopwords\n",
    "from nltk.tokenize import word_tokenize\n",
    "import pandas as pd\n",
    "import re\n",
    "from nltk.corpus import stopwords\n",
    "from bs4 import BeautifulSoup\n",
    "import os"
   ]
  },
  {
   "cell_type": "markdown",
   "source": [
    "Add a flag for sarcasm by comparing the post text to https://nlds.soe.ucsc.edu/sarcasm1. Compare the text of the post with the sarcasm corpus and add a flag for detected or not."
   ],
   "metadata": {
    "collapsed": false
   }
  },
  {
   "cell_type": "markdown",
   "source": [
    "# Sarcasm Text"
   ],
   "metadata": {
    "collapsed": false
   }
  },
  {
   "cell_type": "code",
   "execution_count": 31,
   "outputs": [],
   "source": [
    "# sarcasmTextList = []\n",
    "#\n",
    "# for i in range(1, 1000):\n",
    "#\n",
    "#     try:\n",
    "#         # Open file in read mode\n",
    "#         with open('data-sarc-sample/sarc/sarcastic_' + str(i) + '.txt', 'r') as file:\n",
    "#             # Read the entire contents of the file into a string variable\n",
    "#             sarcasm_text = file.read()\n",
    "#\n",
    "#         sarcasmTextList.append(sarcasm_text)\n",
    "#\n",
    "#     finally:\n",
    "#         continue"
   ],
   "metadata": {
    "collapsed": false
   }
  },
  {
   "cell_type": "code",
   "execution_count": 32,
   "outputs": [],
   "source": [
    "# # Create a pandas DataFrame with the list of strings\n",
    "# df_sarcasm = pd.DataFrame({'Text': sarcasmTextList})"
   ],
   "metadata": {
    "collapsed": false
   }
  },
  {
   "cell_type": "code",
   "execution_count": 33,
   "outputs": [],
   "source": [
    "# df_sarcasm"
   ],
   "metadata": {
    "collapsed": false
   }
  },
  {
   "cell_type": "markdown",
   "source": [],
   "metadata": {
    "collapsed": false
   }
  },
  {
   "cell_type": "code",
   "execution_count": 34,
   "outputs": [],
   "source": [
    "import ssl\n",
    "\n",
    "try:\n",
    "    _create_unverified_https_context = ssl._create_unverified_context\n",
    "except AttributeError:\n",
    "    pass\n",
    "else:\n",
    "    ssl._create_default_https_context = _create_unverified_https_context"
   ],
   "metadata": {
    "collapsed": false
   }
  },
  {
   "cell_type": "code",
   "execution_count": 35,
   "outputs": [
    {
     "name": "stderr",
     "output_type": "stream",
     "text": [
      "[nltk_data] Downloading package stopwords to\n",
      "[nltk_data]     /Users/jaiagrawal/nltk_data...\n",
      "[nltk_data]   Package stopwords is already up-to-date!\n",
      "[nltk_data] Downloading package punkt to\n",
      "[nltk_data]     /Users/jaiagrawal/nltk_data...\n",
      "[nltk_data]   Package punkt is already up-to-date!\n"
     ]
    }
   ],
   "source": [
    "# download necessary data\n",
    "nltk.download('stopwords')\n",
    "nltk.download('punkt')\n",
    "\n",
    "# load the sarcasm corpus\n",
    "corpus_dir = 'data-sarc-sample/sarc'\n",
    "sarcasm_corpus = nltk.corpus.reader.plaintext.PlaintextCorpusReader(corpus_dir, [f for f in os.listdir(corpus_dir) if f.endswith('.txt')])\n",
    "\n",
    "# define a function to check for sarcasm\n",
    "def is_sarcastic(post_text):\n",
    "\n",
    "    try:\n",
    "        # convert text to lowercase\n",
    "        post_text = post_text.lower()\n",
    "\n",
    "        # tokenize the text\n",
    "        post_tokens = word_tokenize(post_text)\n",
    "\n",
    "        # remove stopwords from the text\n",
    "        stop_words = set(stopwords.words('english'))\n",
    "        post_tokens = [w for w in post_tokens if not w in stop_words]\n",
    "\n",
    "        # check if any tokens in the post are also in the sarcasm corpus\n",
    "        for token in post_tokens:\n",
    "            if token in sarcasm_corpus.words():\n",
    "                return True\n",
    "        return False\n",
    "    except:\n",
    "        return False"
   ],
   "metadata": {
    "collapsed": false
   }
  },
  {
   "cell_type": "code",
   "execution_count": null,
   "outputs": [],
   "source": [
    "df = pd.read_csv(\"../Master_Dataset_Raw.csv\")\n",
    "\n",
    "df['is_sarcastic'] = df['Narrative'].apply(is_sarcastic)\n",
    "print(df)"
   ],
   "metadata": {
    "collapsed": false,
    "pycharm": {
     "is_executing": true
    }
   }
  }
 ],
 "metadata": {
  "kernelspec": {
   "display_name": "Python 3",
   "language": "python",
   "name": "python3"
  },
  "language_info": {
   "codemirror_mode": {
    "name": "ipython",
    "version": 2
   },
   "file_extension": ".py",
   "mimetype": "text/x-python",
   "name": "python",
   "nbconvert_exporter": "python",
   "pygments_lexer": "ipython2",
   "version": "2.7.6"
  }
 },
 "nbformat": 4,
 "nbformat_minor": 0
}
