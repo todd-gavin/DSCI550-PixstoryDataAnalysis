{
 "cells": [
  {
   "cell_type": "markdown",
   "metadata": {},
   "source": [
    "# Tika Instructions\n",
    "- DONE - first, git clone http://github.com/chrismattmann/tika-similarity.git and then git clone http://github.com/chrismattmann/etllib.git You will use ETLlib for tsv2json\n",
    "\n",
    "- DONE - then cd tika-similarity and then inside there, do pip install -r requirements.txt . This will take care of installing Tika Similarity's dependencies. \n",
    "\n",
    "- DONE - Then inside of etllib do python setup.py install that will install the associated scripts like tsv2json etc (\n",
    "\n",
    "- make sure that you already have your dataset by this point, with all of your additional features added\n",
    "\n",
    "- then run tsv2json and generate approx 95k JSON files in a directory \n",
    "\n",
    "- once the files are generated in there, you can run similarity.py on the directory with the 95k JSON files\n",
    "\n",
    "- it will generate a file called similarity-scores.txt that has all the resemblance and pairwise similarity scores for each item in your posts with the additional features\n",
    "\n",
    "- then you should run cluster-json.py that will read the similarity-scores.txt and from there use the associated threshold to perform hierarchical agglomerative clustering and to generate clusters.json once you have that file generated you can browse the clusters\n",
    "\n",
    "- you can mess around with different metrics, e.g., try the edit distance version of similarity.py or use value versus key based similarity and so on"
   ]
  },
  {
   "cell_type": "markdown",
   "metadata": {},
   "source": [
    "# Distance Metrics\n",
    "\n",
    "- Jaccard similarity: The ratio of the number of common elements between the sets to the total number of distinct elements in both sets. The Jaccard similarity coefficient can range from 0 to 1, where a value of 0 means that the two sets have no elements in common, and a value of 1 means that the two sets are identical.\n",
    "    - example: A = {1, 2, 3, 4, 5} B = {3, 4, 5, 6, 7}\n",
    "    - common elements = 3; {3, 4, 5}\n",
    "    - distinct elements = 7; {1, 2, 3, 4, 5, 6, 7}\n",
    "    - The Jaccard similarity coefficient --> J(A, B) = |A ∩ B| / |A ∪ B| = 3 / 7 = 0.43\n",
    "\n",
    "    \n",
    "\n",
    "- edit distance: the minimum number of insertions, deletions, and substitutions required to transform one string into another.\n",
    "    - For example, consider the strings \"cat\" and \"cut\". The edit distance between these two strings is 1, because we can transform \"cat\" into \"cut\" by substituting the \"a\" with a \"u\".\n",
    "\n",
    "- cosine similarity: compare the similarity of two documents or sentences represented as vectors of word frequencies. It measures the similarity between two vectors in a multi-dimensional space by taking the cosine of the angle between the vectors\n",
    "    - The resulting value ranges from -1 to 1, where -1 indicates that the two vectors are completely dissimilar, 0 indicates that they are orthogonal (i.e., perpendicular to each other), and 1 indicates that they are identical.\n",
    "    - ex: Sentence1: \"The cat sat on the mat\" ; Sentence2: \"The dog chased the cat off the mat\"\n",
    "    - unique words: [\"the\", \"cat\", \"sat\", \"on\", \"mat\", \"dog\", \"chased\", \"off\"]\n",
    "    - Vectors: Sentence1: [2, 1, 1, 1, 2, 1, 0, 0, 0], Sentence2: [3, 1, 0, 0, 1, 1, 1, 1, 1]\n",
    "\n",
    "\n"
   ]
  },
  {
   "cell_type": "code",
   "execution_count": 2,
   "metadata": {},
   "outputs": [],
   "source": [
    "import csv\n",
    "import subprocess\n",
    "import sys"
   ]
  },
  {
   "cell_type": "code",
   "execution_count": 3,
   "metadata": {},
   "outputs": [],
   "source": [
    "#Create TSV File\n",
    "with open('Master_Dataset_Raw_copy.csv', 'r') as csv_file, open('Master_Dataset_test.tsv', 'w') as tsv_file:\n",
    "    csv_reader = csv.reader(csv_file)\n",
    "    tsv_writer = csv.writer(tsv_file, delimiter='\\t')\n",
    "    for row in csv_reader:\n",
    "        tsv_writer.writerow(row)\n"
   ]
  },
  {
   "cell_type": "code",
   "execution_count": 4,
   "metadata": {},
   "outputs": [],
   "source": [
    "# create headers text file from the tsv\n",
    "\n",
    "# Set the path to your TSV file and column headers file\n",
    "tsv_file_path = \"Master_Dataset_test.tsv\"\n",
    "column_headers_file_path = \"column_headers.txt\"\n",
    "\n",
    "# Open the TSV file and read the column headers\n",
    "with open(tsv_file_path, \"r\", encoding=\"utf-8\") as tsv_file:\n",
    "    reader = csv.reader(tsv_file, delimiter=\"\\t\")\n",
    "    headers = next(reader)\n",
    "    \n",
    "# Write the column headers to the text file\n",
    "with open(column_headers_file_path, \"w\", encoding=\"utf-8\") as headers_file:\n",
    "    for header in headers:\n",
    "        # Add a colon to the end of the header name if it's optional\n",
    "        if header.endswith(\":\"):\n",
    "            header = header[:-1] + \":\"\n",
    "        # Add an asterisk to the end of the header name if it's used for an ID field\n",
    "        elif header.endswith(\"*\"):\n",
    "            header = header[:-1] + \"*\"\n",
    "        headers_file.write(header + \"\\n\")\n",
    "\n"
   ]
  },
  {
   "cell_type": "code",
   "execution_count": 10,
   "metadata": {},
   "outputs": [
    {
     "ename": "SyntaxError",
     "evalue": "invalid syntax (2667376783.py, line 1)",
     "output_type": "error",
     "traceback": [
      "\u001b[0;36m  Input \u001b[0;32mIn [10]\u001b[0;36m\u001b[0m\n\u001b[0;31m    pip uninstall python-magic\u001b[0m\n\u001b[0m        ^\u001b[0m\n\u001b[0;31mSyntaxError\u001b[0m\u001b[0;31m:\u001b[0m invalid syntax\n"
     ]
    }
   ],
   "source": [
    "pip uninstall python-magic\n",
    "\n",
    "\n"
   ]
  },
  {
   "cell_type": "code",
   "execution_count": null,
   "metadata": {},
   "outputs": [],
   "source": [
    "python etllib/etl/tsvtojson.py -t Master_Dataset_test.tsv -j testjson.json -c column_headers.txt -o object_type -s 0.5\n",
    "\n",
    "\n",
    "python etllib/etl/tsvtojson.py -t Master_Dataset_test.tsv -j json_folder -c column_headers.txt \n",
    "\n",
    "\n"
   ]
  },
  {
   "cell_type": "code",
   "execution_count": 12,
   "metadata": {},
   "outputs": [
    {
     "name": "stderr",
     "output_type": "stream",
     "text": [
      "Traceback (most recent call last):\n",
      "  File \"/Users/daniilabbruzzese/Documents/Senior Year/DSCI 550/DSCI550-PixstoryDataAnalysis/Tika Analysis/etllib/etl/tsvtojson.py\", line 36, in <module>\n",
      "    from etl.etllib import readEncodedVal\n",
      "  File \"<frozen zipimport>\", line 259, in load_module\n",
      "  File \"/Users/daniilabbruzzese/opt/anaconda3/lib/python3.9/site-packages/etllib-1.1-py3.9.egg/etl/etllib.py\", line 45, in <module>\n",
      "    import magic\n",
      "ModuleNotFoundError: No module named 'magic'\n"
     ]
    },
    {
     "data": {
      "text/plain": [
       "CompletedProcess(args=['python', '/Users/daniilabbruzzese/Documents/Senior Year/DSCI 550/DSCI550-PixstoryDataAnalysis/Tika Analysis/etllib/etl/tsvtojson.py', 'Master_Dataset_COVID.tsv', 'Data_COVID.json'], returncode=1)"
      ]
     },
     "execution_count": 12,
     "metadata": {},
     "output_type": "execute_result"
    }
   ],
   "source": [
    "\n",
    "# Define the path to the tsv2json script\n",
    "tsv2json_script = '/Users/daniilabbruzzese/Documents/Senior Year/DSCI 550/DSCI550-PixstoryDataAnalysis/Tika Analysis/etllib/etl/tsvtojson.py'\n",
    "\n",
    "# Define the path to the input TSV file\n",
    "input_tsv_file = 'Master_Dataset_COVID.tsv'\n",
    "\n",
    "\n",
    "# Define the path to the headers file\n",
    "headers_file = 'Data_COVID.headers'\n",
    "\n",
    "# Define the path to the output JSON file\n",
    "output_json_file = 'Data_COVID.json'\n",
    "\n",
    "\n",
    "# Call the tsv2json script and pass the input, headers, and output file paths as arguments\n",
    "subprocess.run(['python', tsv2json_script, input_tsv_file, headers_file, output_json_file])\n",
    "\n"
   ]
  }
 ],
 "metadata": {
  "kernelspec": {
   "display_name": "Python 3.9.13 64-bit",
   "language": "python",
   "name": "python3"
  },
  "language_info": {
   "codemirror_mode": {
    "name": "ipython",
    "version": 3
   },
   "file_extension": ".py",
   "mimetype": "text/x-python",
   "name": "python",
   "nbconvert_exporter": "python",
   "pygments_lexer": "ipython3",
   "version": "3.9.13"
  },
  "orig_nbformat": 4,
  "vscode": {
   "interpreter": {
    "hash": "aee8b7b246df8f9039afb4144a1f6fd8d2ca17a180786b69acc140d282b71a49"
   }
  }
 },
 "nbformat": 4,
 "nbformat_minor": 2
}
