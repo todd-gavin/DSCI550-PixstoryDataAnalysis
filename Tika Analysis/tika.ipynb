{
 "cells": [
  {
   "cell_type": "markdown",
   "metadata": {},
   "source": [
    "# Tika Instructions\n",
    "- DONE - first, git clone http://github.com/chrismattmann/tika-similarity.git and then git clone http://github.com/chrismattmann/etllib.git You will use ETLlib for tsv2json\n",
    "\n",
    "- then cd tika-similarity and then inside there, do pip install -r requirements.txt . This will take care of installing Tika Similarity's dependencies. Then inside of etllib do python setup.py install that will install the associated scripts like tsv2json etc (\n",
    "\n",
    "- make sure that you already have your dataset by this point, with all of your additional features added\n",
    "\n",
    "- then run tsv2json and generate approx 95k JSON files in a directory \n",
    "\n",
    "- once the files are generated in there, you can run similarity.py on the directory with the 95k JSON files\n",
    "\n",
    "- it will generate a file called similarity-scores.txt that has all the resemblance and pairwise similarity scores for each item in your posts with the additional features\n",
    "\n",
    "- then you should run cluster-json.py that will read the similarity-scores.txt and from there use the associated threshold to perform hierarchical agglomerative clustering and to generate clusters.json once you have that file generated you can browse the clusters\n",
    "\n",
    "- you can mess around with different metrics, e.g., try the edit distance version of similarity.py or use value versus key based similarity and so on"
   ]
  }
 ],
 "metadata": {
  "kernelspec": {
   "display_name": "Python 3.9.13 64-bit",
   "language": "python",
   "name": "python3"
  },
  "language_info": {
   "name": "python",
   "version": "3.9.13"
  },
  "orig_nbformat": 4,
  "vscode": {
   "interpreter": {
    "hash": "aee8b7b246df8f9039afb4144a1f6fd8d2ca17a180786b69acc140d282b71a49"
   }
  }
 },
 "nbformat": 4,
 "nbformat_minor": 2
}
